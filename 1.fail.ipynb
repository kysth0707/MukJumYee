{
 "cells": [
  {
   "attachments": {},
   "cell_type": "markdown",
   "metadata": {},
   "source": [
    "https://dadev.tistory.com/entry/Python-Pillow-%EC%9D%B4%EC%9A%A9%ED%95%9C-%EC%9D%B4%EB%AF%B8%EC%A7%80%EC%97%90-%ED%85%8D%EC%8A%A4%ED%8A%B8-%EC%B6%94%EA%B0%80"
   ]
  },
  {
   "attachments": {},
   "cell_type": "markdown",
   "metadata": {},
   "source": [
    "# 텍스트를 이미지에 렌더해보기"
   ]
  },
  {
   "cell_type": "code",
   "execution_count": 1,
   "metadata": {},
   "outputs": [],
   "source": [
    "from PIL import Image, ImageFont, ImageDraw\n",
    "from IPython.display import display"
   ]
  },
  {
   "cell_type": "code",
   "execution_count": 2,
   "metadata": {},
   "outputs": [],
   "source": [
    "topPos = r'E:\\GithubProjects\\MukJumYee'\n",
    "backgroundColor = (255, 255, 255)\n",
    "fontColor = (0, 0, 0)"
   ]
  },
  {
   "cell_type": "code",
   "execution_count": 3,
   "metadata": {},
   "outputs": [],
   "source": [
    "def loadFont(ttfPos : str, fontSize : int = 20):\n",
    "\treturn ImageFont.truetype(font=ttfPos, size=fontSize)\n",
    "\n",
    "fonts = {\n",
    "\t'바탕체' : loadFont(fr\"{topPos}\\fonts\\batang.ttc\"),\n",
    "\t'고딕체' : loadFont(fr\"{topPos}\\fonts\\Hancom Gothic Regular.ttf\"),\n",
    "\t'고딕체-굵음' : loadFont(fr\"{topPos}\\fonts\\Hancom Gothic Bold.ttf\"),\n",
    "\t'굴림체' : loadFont(fr\"{topPos}\\fonts\\gulim.ttc\"),\n",
    "}"
   ]
  },
  {
   "cell_type": "code",
   "execution_count": 4,
   "metadata": {},
   "outputs": [
    {
     "data": {
      "image/png": "[encoded data removed]",
      "text/plain": [
       "<PIL.Image.Image image mode=RGBA size=30x30>"
      ]
     },
     "metadata": {},
     "output_type": "display_data"
    }
   ],
   "source": [
    "img = Image.new(mode=\"RGBA\", size=(30,30), color=backgroundColor)\n",
    "display(img)"
   ]
  },
  {
   "cell_type": "code",
   "execution_count": 5,
   "metadata": {},
   "outputs": [],
   "source": [
    "def drawText(targetImage, text, font):\n",
    "\tout = ImageDraw.Draw(targetImage)\n",
    "\tout.text((5, 5), text, fontColor, font)\n",
    "\treturn targetImage"
   ]
  },
  {
   "cell_type": "code",
   "execution_count": 6,
   "metadata": {},
   "outputs": [
    {
     "data": {
      "image/png": "[encoded data removed]",
      "text/plain": [
       "<PIL.Image.Image image mode=RGBA size=30x30>"
      ]
     },
     "metadata": {},
     "output_type": "display_data"
    }
   ],
   "source": [
    "display(drawText(img, \"안\", fonts['바탕체']))"
   ]
  },
  {
   "cell_type": "code",
   "execution_count": 7,
   "metadata": {},
   "outputs": [],
   "source": [
    "def getImage(text, font):\n",
    "    img = Image.new(mode=\"RGBA\", size=(30,30), color=backgroundColor)\n",
    "    drawText(img, text, font)\n",
    "    return img"
   ]
  },
  {
   "cell_type": "code",
   "execution_count": 8,
   "metadata": {},
   "outputs": [
    {
     "data": {
      "image/png": "[encoded data removed]",
      "text/plain": [
       "<PIL.Image.Image image mode=RGBA size=30x30>"
      ]
     },
     "execution_count": 8,
     "metadata": {},
     "output_type": "execute_result"
    }
   ],
   "source": [
    "getImage('뷁', fonts['바탕체'])"
   ]
  },
  {
   "cell_type": "code",
   "execution_count": 9,
   "metadata": {},
   "outputs": [
    {
     "data": {
      "image/png": "[encoded data removed]",
      "text/plain": [
       "<PIL.Image.Image image mode=RGBA size=30x30>"
      ]
     },
     "execution_count": 9,
     "metadata": {},
     "output_type": "execute_result"
    }
   ],
   "source": [
    "getImage('뷁', fonts['고딕체'])"
   ]
  },
  {
   "cell_type": "code",
   "execution_count": 10,
   "metadata": {},
   "outputs": [
    {
     "data": {
      "image/png": "[encoded data removed]",
      "text/plain": [
       "<PIL.Image.Image image mode=RGBA size=30x30>"
      ]
     },
     "execution_count": 10,
     "metadata": {},
     "output_type": "execute_result"
    }
   ],
   "source": [
    "getImage('뷁', fonts['고딕체-굵음'])"
   ]
  },
  {
   "cell_type": "code",
   "execution_count": 11,
   "metadata": {},
   "outputs": [
    {
     "data": {
      "image/png": "[encoded data removed]",
      "text/plain": [
       "<PIL.Image.Image image mode=RGBA size=30x30>"
      ]
     },
     "execution_count": 11,
     "metadata": {},
     "output_type": "execute_result"
    }
   ],
   "source": [
    "getImage('뷁', fonts['굴림체'])"
   ]
  },
  {
   "attachments": {},
   "cell_type": "markdown",
   "metadata": {},
   "source": [
    "# 한글 목록 가져오기"
   ]
  },
  {
   "cell_type": "code",
   "execution_count": 12,
   "metadata": {},
   "outputs": [],
   "source": [
    "korsList = []\n",
    "with open(fr'{topPos}\\kor.txt', 'r',encoding='utf8') as f:\n",
    "    korsList = list(map(lambda x : x.strip(), f.readlines()))"
   ]
  },
  {
   "cell_type": "code",
   "execution_count": 13,
   "metadata": {},
   "outputs": [
    {
     "data": {
      "text/plain": [
       "11172"
      ]
     },
     "execution_count": 13,
     "metadata": {},
     "output_type": "execute_result"
    }
   ],
   "source": [
    "len(korsList)"
   ]
  },
  {
   "cell_type": "code",
   "execution_count": 14,
   "metadata": {},
   "outputs": [
    {
     "data": {
      "text/plain": [
       "['바탕체', '고딕체', '고딕체-굵음', '굴림체']"
      ]
     },
     "execution_count": 14,
     "metadata": {},
     "output_type": "execute_result"
    }
   ],
   "source": [
    "fontNames = list(fonts.keys())\n",
    "fontNames"
   ]
  },
  {
   "cell_type": "code",
   "execution_count": 15,
   "metadata": {},
   "outputs": [],
   "source": [
    "fontList = []"
   ]
  },
  {
   "attachments": {},
   "cell_type": "markdown",
   "metadata": {},
   "source": [
    "# 원 핫 인코딩 만들기  \n",
    "- [1. 0. 0. 0. ... 0.] 같은 거  "
   ]
  },
  {
   "cell_type": "code",
   "execution_count": 16,
   "metadata": {},
   "outputs": [],
   "source": [
    "import numpy as np"
   ]
  },
  {
   "cell_type": "code",
   "execution_count": 17,
   "metadata": {},
   "outputs": [],
   "source": [
    "mapObj = { x:i for i, x in enumerate(korsList)}\n",
    "\n",
    "def OneHotEncoding(data):\n",
    "\tReturnObj = []\n",
    "\n",
    "\tObjLen = len(mapObj)\n",
    "\tfor label in data:\n",
    "\t\ttemp = np.array([0. for _ in range(ObjLen)])\n",
    "\t\ttemp[mapObj[label]] = 1.\n",
    "\t\tReturnObj.append(temp)\n",
    "\treturn np.array(ReturnObj)[0]\n",
    "\n",
    "mapObjSwap = dict([(value, key) for key, value in mapObj.items()])\n",
    "\n",
    "def OneHotDecoding(arr):\n",
    "\tmaxPercent = 0\n",
    "\tresult = \"?\"\n",
    "\tfor i, percent in enumerate(arr):\n",
    "\t\tif percent > maxPercent:\n",
    "\t\t\tmaxPercent = percent\n",
    "\t\t\tresult = mapObjSwap[i]\n",
    "\treturn (result, maxPercent)"
   ]
  },
  {
   "cell_type": "code",
   "execution_count": 18,
   "metadata": {},
   "outputs": [
    {
     "data": {
      "text/plain": [
       "array([1., 0., 0., ..., 0., 0., 0.])"
      ]
     },
     "execution_count": 18,
     "metadata": {},
     "output_type": "execute_result"
    }
   ],
   "source": [
    "temp = OneHotEncoding('가')\n",
    "temp"
   ]
  },
  {
   "cell_type": "code",
   "execution_count": 19,
   "metadata": {},
   "outputs": [
    {
     "data": {
      "text/plain": [
       "('가', 1.0)"
      ]
     },
     "execution_count": 19,
     "metadata": {},
     "output_type": "execute_result"
    }
   ],
   "source": [
    "OneHotDecoding(temp)"
   ]
  },
  {
   "attachments": {},
   "cell_type": "markdown",
   "metadata": {},
   "source": [
    "# 데이터 셋 만들기"
   ]
  },
  {
   "attachments": {},
   "cell_type": "markdown",
   "metadata": {},
   "source": [
    "왜 이미지를 저장해서 안 쓰나요?  \n",
    "직접 실험해본 결과 파일을 저장하고 불러오는 것보다 즉시 생성하여 램(변수)에 저장해두는 것이 훨씬 빠릅니다  "
   ]
  },
  {
   "attachments": {},
   "cell_type": "markdown",
   "metadata": {},
   "source": [
    "그리고 Pillow 의 이미지는 기본적으로 (r,g,b,a) a : alpha 으로 되어있기 때문에 이를 흑백(0~255) 로 변경해주어야 합니다\n"
   ]
  },
  {
   "cell_type": "code",
   "execution_count": 20,
   "metadata": {},
   "outputs": [],
   "source": [
    "trainX = []\n",
    "trainY = []"
   ]
  },
  {
   "cell_type": "code",
   "execution_count": 21,
   "metadata": {},
   "outputs": [
    {
     "name": "stdout",
     "output_type": "stream",
     "text": [
      "힣 | 100%       "
     ]
    }
   ],
   "source": [
    "for i, txt in enumerate(korsList):\n",
    "\ttmp = OneHotEncoding(txt)\n",
    "\tfor fontName in fontNames:\n",
    "\t\ttrainX.append(np.asarray(getImage(txt, fonts[fontName]).convert('L')))\n",
    "\t\ttrainY.append(tmp)\n",
    "\tprint(f\"\\r{txt} | {int(((i+1)/len(korsList)) * 100)}%       \", end='')"
   ]
  },
  {
   "cell_type": "code",
   "execution_count": 22,
   "metadata": {},
   "outputs": [],
   "source": [
    "trainX = np.array(trainX)\n",
    "trainY = np.array(trainY)"
   ]
  },
  {
   "cell_type": "code",
   "execution_count": 23,
   "metadata": {},
   "outputs": [
    {
     "data": {
      "text/plain": [
       "((44688, 30, 30), (44688, 11172))"
      ]
     },
     "execution_count": 23,
     "metadata": {},
     "output_type": "execute_result"
    }
   ],
   "source": [
    "trainX.shape, trainY.shape"
   ]
  },
  {
   "attachments": {},
   "cell_type": "markdown",
   "metadata": {},
   "source": [
    "# 2차원으로 변경"
   ]
  },
  {
   "cell_type": "code",
   "execution_count": 24,
   "metadata": {},
   "outputs": [],
   "source": [
    "trainX = trainX.reshape((44688, 30*30))\n",
    "trainX = trainX.astype('float')/255"
   ]
  },
  {
   "cell_type": "code",
   "execution_count": 25,
   "metadata": {},
   "outputs": [
    {
     "data": {
      "text/plain": [
       "((44688, 900), (44688, 11172))"
      ]
     },
     "execution_count": 25,
     "metadata": {},
     "output_type": "execute_result"
    }
   ],
   "source": [
    "trainX.shape, trainY.shape"
   ]
  },
  {
   "attachments": {},
   "cell_type": "markdown",
   "metadata": {},
   "source": [
    "# 모델"
   ]
  },
  {
   "cell_type": "code",
   "execution_count": 26,
   "metadata": {},
   "outputs": [
    {
     "data": {
      "text/plain": [
       "11172"
      ]
     },
     "execution_count": 26,
     "metadata": {},
     "output_type": "execute_result"
    }
   ],
   "source": [
    "len(korsList)"
   ]
  },
  {
   "cell_type": "code",
   "execution_count": 27,
   "metadata": {},
   "outputs": [],
   "source": [
    "import tensorflow as tf"
   ]
  },
  {
   "cell_type": "code",
   "execution_count": 28,
   "metadata": {},
   "outputs": [
    {
     "data": {
      "text/plain": [
       "11172"
      ]
     },
     "execution_count": 28,
     "metadata": {},
     "output_type": "execute_result"
    }
   ],
   "source": [
    "len(korsList)"
   ]
  },
  {
   "cell_type": "code",
   "execution_count": 81,
   "metadata": {},
   "outputs": [
    {
     "name": "stdout",
     "output_type": "stream",
     "text": [
      "Model: \"sequential_7\"\n",
      "_________________________________________________________________\n",
      " Layer (type)                Output Shape              Param #   \n",
      "=================================================================\n",
      " dense_42 (Dense)            (None, 512)               461312    \n",
      "                                                                 \n",
      " dense_43 (Dense)            (None, 256)               131328    \n",
      "                                                                 \n",
      " dense_44 (Dense)            (None, 128)               32896     \n",
      "                                                                 \n",
      " dense_45 (Dense)            (None, 1024)              132096    \n",
      "                                                                 \n",
      " dense_46 (Dense)            (None, 512)               524800    \n",
      "                                                                 \n",
      " dense_47 (Dense)            (None, 11172)             5731236   \n",
      "                                                                 \n",
      "=================================================================\n",
      "Total params: 7,013,668\n",
      "Trainable params: 7,013,668\n",
      "Non-trainable params: 0\n",
      "_________________________________________________________________\n"
     ]
    }
   ],
   "source": [
    "model = tf.keras.models.Sequential([\n",
    "\ttf.keras.layers.Dense(512, activation = 'relu', input_shape = (30 * 30,)),\n",
    "\ttf.keras.layers.Dense(256, activation = 'relu',),\n",
    "\ttf.keras.layers.Dense(128, activation = 'relu',),\n",
    "\ttf.keras.layers.Dense(1024, activation = 'relu',),\n",
    "\ttf.keras.layers.Dense(512, activation='relu'),\n",
    "\ttf.keras.layers.Dense(11172, activation='softmax')\n",
    "])\n",
    "model.summary()"
   ]
  },
  {
   "cell_type": "code",
   "execution_count": 82,
   "metadata": {},
   "outputs": [],
   "source": [
    "model.compile(\n",
    "\toptimizer = 'rmsprop',\n",
    "\tloss = 'categorical_crossentropy',\n",
    "    metrics = ['accuracy']\n",
    ")"
   ]
  },
  {
   "cell_type": "code",
   "execution_count": 83,
   "metadata": {},
   "outputs": [
    {
     "data": {
      "text/plain": [
       "((44688, 900), (44688, 11172))"
      ]
     },
     "execution_count": 83,
     "metadata": {},
     "output_type": "execute_result"
    }
   ],
   "source": [
    "trainX.shape, trainY.shape"
   ]
  },
  {
   "cell_type": "code",
   "execution_count": 85,
   "metadata": {},
   "outputs": [
    {
     "name": "stdout",
     "output_type": "stream",
     "text": [
      "1397/1397 [==============================] - 113s 80ms/step - loss: 9.3542 - accuracy: 0.0000e+00\n"
     ]
    },
    {
     "data": {
      "text/plain": [
       "<keras.callbacks.History at 0x1f1af262560>"
      ]
     },
     "execution_count": 85,
     "metadata": {},
     "output_type": "execute_result"
    }
   ],
   "source": [
    "model.fit(trainX, trainY, epochs = 1)#, batch_size=512)"
   ]
  },
  {
   "attachments": {},
   "cell_type": "markdown",
   "metadata": {},
   "source": [
    "정확도가 0... 가망이 좀 없어 보인다 ㅎㅎ;"
   ]
  }
 ],
 "metadata": {
  "kernelspec": {
   "display_name": "Python 3",
   "language": "python",
   "name": "python3"
  },
  "language_info": {
   "codemirror_mode": {
    "name": "ipython",
    "version": 3
   },
   "file_extension": ".py",
   "mimetype": "text/x-python",
   "name": "python",
   "nbconvert_exporter": "python",
   "pygments_lexer": "ipython3",
   "version": "3.10.5"
  },
  "orig_nbformat": 4,
  "vscode": {
   "interpreter": {
    "hash": "cde9198c2e8e91a0b91670eed1e26ed14d52c99f31af54ead9171463984fcc7e"
   }
  }
 },
 "nbformat": 4,
 "nbformat_minor": 2
}
